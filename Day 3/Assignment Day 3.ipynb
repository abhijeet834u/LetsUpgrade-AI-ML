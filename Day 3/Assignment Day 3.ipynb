{
 "cells": [
  {
   "cell_type": "markdown",
   "metadata": {},
   "source": [
    "# Question 1 :\n",
    "Write a program to subtract two complex numbers in Python.\n"
   ]
  },
  {
   "cell_type": "code",
   "execution_count": 17,
   "metadata": {},
   "outputs": [
    {
     "name": "stdout",
     "output_type": "stream",
     "text": [
      "Output of Subtraction of two complex number is (4+3j)\n"
     ]
    }
   ],
   "source": [
    "a = 5+5j\n",
    "b = 1+2j\n",
    "print(\"Output of Subtraction of two complex number is\",a-b)"
   ]
  },
  {
   "cell_type": "markdown",
   "metadata": {},
   "source": [
    "# Question 2 :\n",
    "Write a program to find the fourth root of a number.\n"
   ]
  },
  {
   "cell_type": "code",
   "execution_count": 18,
   "metadata": {},
   "outputs": [
    {
     "name": "stdout",
     "output_type": "stream",
     "text": [
      "Enter the Number:10\n",
      "fourth root of a number is 1.7782794100389228\n"
     ]
    }
   ],
   "source": [
    "num = int(input(\"Enter the Number:\"))\n",
    "print(\"fourth root of a number is\",num**(1/4))"
   ]
  },
  {
   "cell_type": "markdown",
   "metadata": {},
   "source": [
    "# Question 3:\n",
    "Write a program to swap two numbers in Python with the help of a temporary variable.\n"
   ]
  },
  {
   "cell_type": "code",
   "execution_count": 3,
   "metadata": {},
   "outputs": [
    {
     "name": "stdout",
     "output_type": "stream",
     "text": [
      "Before swapping Numbers: 5 10\n",
      "After swapping Numbers: 10 5\n"
     ]
    }
   ],
   "source": [
    "a = 5\n",
    "b = 10\n",
    "print(\"Before swapping Numbers:\",a,b)\n",
    "temp = a\n",
    "a = b\n",
    "b = temp\n",
    "print(\"After swapping Numbers:\",a,b)"
   ]
  },
  {
   "cell_type": "markdown",
   "metadata": {},
   "source": [
    "# Question 4:\n",
    "Write a program to swap two numbers in Python without using a temporary variable.\n"
   ]
  },
  {
   "cell_type": "code",
   "execution_count": 6,
   "metadata": {},
   "outputs": [
    {
     "name": "stdout",
     "output_type": "stream",
     "text": [
      "Before swapping: 10 5\n",
      "After swapping: 5 10\n"
     ]
    }
   ],
   "source": [
    "a = 10\n",
    "b = 5\n",
    "print(\"Before swapping:\",a,b)\n",
    "a = a + b # a = 15\n",
    "b = a - b # b = 10 - 15 = 5\n",
    "a = a - b # a = a - b = 15-5 \n",
    "print(\"After swapping:\",a,b)"
   ]
  },
  {
   "cell_type": "markdown",
   "metadata": {},
   "source": [
    "# Question 5:\n",
    "Write a program to convert fahrenheit to kelvin and celsius both.\n"
   ]
  },
  {
   "cell_type": "code",
   "execution_count": 9,
   "metadata": {},
   "outputs": [
    {
     "name": "stdout",
     "output_type": "stream",
     "text": [
      "Please enter the temperature in fahrenheit:55\n",
      "Temperature in Celsius:  12.777777777777779\n",
      "Temperature in Kelvin:  286.27777777777777\n"
     ]
    }
   ],
   "source": [
    "F = int(input(\"Please enter the temperature in fahrenheit:\"))\n",
    "C = (F - 32)*(5/9)\n",
    "K = 273.5 + ((F - 32.0) * (5.0/9.0))\n",
    "print(\"Temperature in Celsius: \",C)\n",
    "print(\"Temperature in Kelvin: \",K)"
   ]
  },
  {
   "cell_type": "markdown",
   "metadata": {},
   "source": [
    "# Question 6:\n",
    "Write a program to demonstrate all the available data types in Python. Hint: Use type() function.\n"
   ]
  },
  {
   "cell_type": "code",
   "execution_count": 14,
   "metadata": {},
   "outputs": [
    {
     "name": "stdout",
     "output_type": "stream",
     "text": [
      "<class 'int'>\n",
      "<class 'float'>\n",
      "<class 'bool'>\n",
      "<class 'str'>\n",
      "<class 'complex'>\n",
      "<class 'list'>\n",
      "<class 'tuple'>\n",
      "<class 'tuple'>\n",
      "<class 'dict'>\n"
     ]
    }
   ],
   "source": [
    "print(type(1))\n",
    "print(type(1.3))\n",
    "print(type(True))\n",
    "print(type(\"This is String\"))\n",
    "print(type(1+1j))\n",
    "print(type([1,2,3]))\n",
    "print(type(([1,2,3],2)))\n",
    "print(type((1,2,3)))\n",
    "print(type({1:\"apple\", 2:\"ball\", 3:\"cat\"}))"
   ]
  },
  {
   "cell_type": "markdown",
   "metadata": {},
   "source": [
    "# Question 7:\n",
    "Create a Markdown cell in jupyter and list the steps discussed in the session by Dr. Darshan\n",
    "Ingle sir to create Github profile and upload Githubs Assignment link."
   ]
  },
  {
   "cell_type": "markdown",
   "metadata": {},
   "source": [
    "1. Create or Login to GitHub Account.\n",
    "2. Create a Github public repo and name it \"LetsUpgrade AI/ML\"\n",
    "3. Upload the files/solution in the repo in day wise manner.\n",
    "4. Copy the URL of the Folder of that day and paste in the Assignment Submission Form (Google Form)\n"
   ]
  },
  {
   "cell_type": "code",
   "execution_count": null,
   "metadata": {},
   "outputs": [],
   "source": []
  }
 ],
 "metadata": {
  "kernelspec": {
   "display_name": "Python 3",
   "language": "python",
   "name": "python3"
  },
  "language_info": {
   "codemirror_mode": {
    "name": "ipython",
    "version": 3
   },
   "file_extension": ".py",
   "mimetype": "text/x-python",
   "name": "python",
   "nbconvert_exporter": "python",
   "pygments_lexer": "ipython3",
   "version": "3.7.7"
  }
 },
 "nbformat": 4,
 "nbformat_minor": 4
}
