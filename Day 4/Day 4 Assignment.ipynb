{
 "cells": [
  {
   "cell_type": "markdown",
   "metadata": {},
   "source": [
    "# Question 1 :\n",
    "Research on whether addition, subtraction, multiplication, division, floor division and modulo\n",
    "operations be performed on complex numbers. Based on your study, implement a Python\n",
    "program to demonstrate these operations."
   ]
  },
  {
   "cell_type": "code",
   "execution_count": 4,
   "metadata": {},
   "outputs": [
    {
     "name": "stdout",
     "output_type": "stream",
     "text": [
      "Addition of two complex number:  (10+30j)\n",
      "subtraction of two complex number:  -10j\n",
      "Multiplication of two complex number:  (-175+150j)\n",
      "division of two complex number:  (0.5294117647058824-0.11764705882352941j)\n",
      "can't take floor of complex number\n",
      "can't mod complex numbers\n"
     ]
    }
   ],
   "source": [
    "a=complex(5,10)\n",
    "b=complex(5,20)\n",
    "print(\"Addition of two complex number: \", a+b)\n",
    "print(\"subtraction of two complex number: \", a-b)\n",
    "print(\"Multiplication of two complex number: \", a*b)\n",
    "print(\"division of two complex number: \", a/b)\n",
    "#print(\"Floor division of two complex number: \", a//b) Error:can't take floor of complex number.\n",
    "print(\"can't take floor of complex number\")\n",
    "#print(\"modulus of two complex number: \", a%b) Error:can't mod complex numbers.\n",
    "print(\"can't mod complex numbers\")\n"
   ]
  },
  {
   "cell_type": "markdown",
   "metadata": {},
   "source": [
    "# Question 2 :\n",
    "Research on range() functions and its parameters. Create a markdown cell and write in your own\n",
    "words (no copy-paste from google please) what you understand about it. Implement a small\n",
    "program of your choice on the same."
   ]
  },
  {
   "cell_type": "markdown",
   "metadata": {},
   "source": [
    "range() is a function of Python which is used when you want to loop through the records. It can be used to create sequence of numbers.\n",
    "\n",
    "range has 3 parameters. \n",
    "1. start: integer from which the range should be started\n",
    "2. stop: integer upto which the range should stop\n",
    "3. step: integer to increment between two numbers in the sequence\n",
    "\n",
    "Based on Required Range. Range takes 1-3 arguments only in argument given sequence below\n",
    "range(stop) takes one argument.\n",
    "range(start, stop) takes two arguments.\n",
    "range(start, stop, step) takes three arguments.\n"
   ]
  },
  {
   "cell_type": "code",
   "execution_count": 21,
   "metadata": {},
   "outputs": [
    {
     "name": "stdout",
     "output_type": "stream",
     "text": [
      "First Range\n",
      "0\n",
      "1\n",
      "2\n",
      "3\n",
      "4\n",
      "Second Range\n",
      "8\n",
      "9\n",
      "Third Range\n",
      "1\n",
      "11\n"
     ]
    }
   ],
   "source": [
    "print(\"First Range\")\n",
    "for i in range(5): \n",
    "    print(i) \n",
    "\n",
    "print(\"Second Range\")\n",
    "for i in range(8,10):\n",
    "    print(i) \n",
    "\n",
    "print(\"Third Range\")\n",
    "for i in range(1,20,10):\n",
    "    print(i) "
   ]
  },
  {
   "cell_type": "markdown",
   "metadata": {},
   "source": [
    "# Question 3:\n",
    "Consider two numbers. Perform their subtraction and if the result of subtraction is greater than\n",
    "25, print their multiplication result else print their division result."
   ]
  },
  {
   "cell_type": "code",
   "execution_count": 6,
   "metadata": {},
   "outputs": [
    {
     "name": "stdout",
     "output_type": "stream",
     "text": [
      "Result is Less than 25. So, Result of Division is: 4.0\n"
     ]
    }
   ],
   "source": [
    "num1=20\n",
    "num2=5\n",
    "\n",
    "sub= num1 - num2\n",
    "\n",
    "if sub>25:\n",
    "    print(\"Result is Greater than 25. Result of Multiplication is: \", num1*num2)\n",
    "else:\n",
    "    print(\"Result is Less than 25. So, Result of Division is:\" , num1/num2)"
   ]
  },
  {
   "cell_type": "markdown",
   "metadata": {},
   "source": [
    "# Question 4:\n",
    "Consider a list of 10 elements of integer values. If the number in the list is divisible by 2, print the\n",
    "result as \"square of that number minus 2\".capitalize"
   ]
  },
  {
   "cell_type": "code",
   "execution_count": 16,
   "metadata": {},
   "outputs": [
    {
     "name": "stdout",
     "output_type": "stream",
     "text": [
      "The Following Number is Divisble by 2. 12  square of that number minus 2 is : 142\n",
      "The Following Number is Divisble by 2. 14  square of that number minus 2 is : 194\n",
      "The Following Number is Divisble by 2. 16  square of that number minus 2 is : 254\n",
      "The Following Number is Divisble by 2. 18  square of that number minus 2 is : 322\n",
      "The Following Number is Divisble by 2. 20  square of that number minus 2 is : 398\n"
     ]
    }
   ],
   "source": [
    "l=[11,12,13,14,15,16,17,18,19,20]\n",
    "for i in l:\n",
    "    if i%2==0:\n",
    "        print(\"The Following Number is Divisble by 2.\",i,\" square of that number minus 2 is :\",(i*i-2))"
   ]
  },
  {
   "cell_type": "markdown",
   "metadata": {},
   "source": [
    "# Question 5:\n",
    "Consider a list of 10 elements. Print all the elements in the list which are greater than 7 when that\n",
    "number is divided 2.\n"
   ]
  },
  {
   "cell_type": "code",
   "execution_count": 17,
   "metadata": {},
   "outputs": [
    {
     "name": "stdout",
     "output_type": "stream",
     "text": [
      "Following elements in the list which are greater than 7 when that number is divided 2: 15\n",
      "Following elements in the list which are greater than 7 when that number is divided 2: 16\n",
      "Following elements in the list which are greater than 7 when that number is divided 2: 17\n",
      "Following elements in the list which are greater than 7 when that number is divided 2: 18\n",
      "Following elements in the list which are greater than 7 when that number is divided 2: 19\n",
      "Following elements in the list which are greater than 7 when that number is divided 2: 20\n"
     ]
    }
   ],
   "source": [
    "l=[11,12,13,14,15,16,17,18,19,20]\n",
    "for i in l:\n",
    "    if i/2>7:\n",
    "        print(\"Following elements in the list which are greater than 7 when that number is divided 2:\",i)"
   ]
  },
  {
   "cell_type": "code",
   "execution_count": null,
   "metadata": {},
   "outputs": [],
   "source": []
  }
 ],
 "metadata": {
  "kernelspec": {
   "display_name": "Python 3",
   "language": "python",
   "name": "python3"
  },
  "language_info": {
   "codemirror_mode": {
    "name": "ipython",
    "version": 3
   },
   "file_extension": ".py",
   "mimetype": "text/x-python",
   "name": "python",
   "nbconvert_exporter": "python",
   "pygments_lexer": "ipython3",
   "version": "3.7.7"
  }
 },
 "nbformat": 4,
 "nbformat_minor": 4
}
