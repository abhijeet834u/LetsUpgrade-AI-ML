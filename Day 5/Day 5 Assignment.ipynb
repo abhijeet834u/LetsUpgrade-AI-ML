{
 "cells": [
  {
   "cell_type": "markdown",
   "metadata": {},
   "source": [
    "# Question 1 :\n",
    "Write a Python program to find the first 20 non-even prime natural numbers."
   ]
  },
  {
   "cell_type": "code",
   "execution_count": 4,
   "metadata": {},
   "outputs": [
    {
     "name": "stdout",
     "output_type": "stream",
     "text": [
      "First 20 Non-even prime numbers:\n",
      "[3, 5, 7, 11, 13, 17, 19, 23, 29, 31, 37, 41, 43, 47, 53, 59, 61, 67, 71, 73]\n"
     ]
    }
   ],
   "source": [
    "non_even_prime = []\n",
    "num = 0\n",
    "\n",
    "def checkIfPrime(num):\n",
    "    for i in range(2, num):\n",
    "        if num % i == 0:\n",
    "            return False\n",
    "    return True\n",
    "\n",
    "def checkIfNonEven(num):\n",
    "    if num % 2 == 0:\n",
    "        return False\n",
    "    return True\n",
    "\n",
    "while len(non_even_prime) != 20:\n",
    "    num += 1\n",
    "    \n",
    "    if num == 1:\n",
    "        continue\n",
    "    \n",
    "    if checkIfPrime(num):\n",
    "        if checkIfNonEven(num):\n",
    "            non_even_prime.append(num)\n",
    "\n",
    "print(\"First 20 Non-even prime numbers:\")\n",
    "print(non_even_prime)"
   ]
  },
  {
   "cell_type": "markdown",
   "metadata": {},
   "source": [
    "# Question 2 :\n",
    "Write a Python program to implement 15 functions of string."
   ]
  },
  {
   "cell_type": "code",
   "execution_count": 15,
   "metadata": {},
   "outputs": [
    {
     "name": "stdout",
     "output_type": "stream",
     "text": [
      "String 1: Hello World!\n",
      "String 2: My Name is Abhijeet\n",
      "15 operations performed on the string:\n",
      "\n",
      "To upper case: HELLO WORLD!\n",
      "To lower case: hello world!\n",
      "Capitalize First Word: My name is abhijeet\n",
      "Capitalize All Words: My Name Is Abhijeet\n",
      "Finding index of A: 11\n",
      "Replacing h with x: Xello World!\n",
      "Finding index of d: 10\n",
      "Check if all alphabets: False\n",
      "Check if all digits: False\n",
      "Split from the space between words: ['Hello', 'World!']\n",
      "Strip H, d, ! from the string: ello Worl\n",
      "Swap the cases of the string: hELLO wORLD!\n",
      "Check is string starts with H: True\n",
      "Check if string is uppercase False\n",
      "Check if string is titlecase: True\n"
     ]
    }
   ],
   "source": [
    "str1 = \"Hello World!\"\n",
    "str2 = \"My Name is Abhijeet\"\n",
    "print(\"String 1: \" + str1)\n",
    "print(\"String 2: \" + str2)\n",
    "print(\"15 operations performed on the string:\\n\")\n",
    "\n",
    "print(\"To upper case: \" + str1.upper())\n",
    "print(\"To lower case: \" + str1.lower())\n",
    "print(\"Capitalize First Word: \" + str2.capitalize())\n",
    "print(\"Capitalize All Words: \" + str2.title())\n",
    "print(\"Finding index of A:\", str2.find(\"A\"))\n",
    "print(\"Replacing h with x: \" + str1.replace(\"H\", \"X\"))\n",
    "print(\"Finding index of d:\", str1.index(\"d\"))\n",
    "print(\"Check if all alphabets:\", str1.isalpha())\n",
    "print(\"Check if all digits:\", str1.isdigit())\n",
    "print(\"Split from the space between words:\", str1.split(\" \"))\n",
    "print(\"Strip H, d, ! from the string: \" + str1.strip(\"Hd!\"))\n",
    "print(\"Swap the cases of the string: \" + str1.swapcase())\n",
    "print(\"Check is string starts with H:\", str1.startswith(\"H\"))\n",
    "print(\"Check if string is uppercase\", str1.isupper())\n",
    "print(\"Check if string is titlecase:\", str1.istitle())"
   ]
  },
  {
   "cell_type": "markdown",
   "metadata": {},
   "source": [
    "# Question 3:\n",
    "Write a Python program to check if the given string is a Palindrome or Anagram or None of them.\n",
    "Display the message accordingly to the user."
   ]
  },
  {
   "cell_type": "code",
   "execution_count": 22,
   "metadata": {},
   "outputs": [
    {
     "name": "stdout",
     "output_type": "stream",
     "text": [
      "Enter the string which you want to check is Palindrome or NotIs it crazy how saying sentences backwards creates backwards sentences saying how crazy it is\n",
      "The string is a palindrome.\n",
      "Enter 1st string check whether it is Anagram or Notlisten\n",
      "Enter 2nd string check whether it is Anagram or Notsilent\n",
      "The strings are anagrams.\n"
     ]
    }
   ],
   "source": [
    "def isPalindrome(str1):\n",
    "    str1 = str1.lower()\n",
    "    rev_str = reversed(str1)\n",
    "\n",
    "    if list(str1) == list(str1):\n",
    "       print(\"The string is a palindrome.\")\n",
    "    else:\n",
    "       print(\"The string is not a palindrome.\")\n",
    "\n",
    "def isAnagram(s1, s2):\n",
    "    if(sorted(s1.lower())== sorted(s2.lower())): \n",
    "        print(\"The strings are anagrams.\")  \n",
    "    else: \n",
    "        print(\"The strings aren't anagrams.\")  \n",
    "        \n",
    "str1 = input(\"Enter the string which you want to check is Palindrome or Not\")\n",
    "isPalindrome(str1)\n",
    "\n",
    "s1 = input(\"Enter 1st string check whether it is Anagram or Not\")\n",
    "s2 = input(\"Enter 2nd string check whether it is Anagram or Not\")\n",
    "isAnagram(s1,s2)\n",
    "\n"
   ]
  },
  {
   "cell_type": "markdown",
   "metadata": {},
   "source": [
    "# Question 4:\n",
    "Write a Python's user defined function that removes all the additional characters from the string\n",
    "and converts it finally to lower case using built-in lower(). eg: If the string is \"Dr. Darshan Ingle\n",
    "@AI-ML Trainer\", then the output be \"drdarshaningleaimltrainer\"."
   ]
  },
  {
   "cell_type": "code",
   "execution_count": 23,
   "metadata": {},
   "outputs": [
    {
     "name": "stdout",
     "output_type": "stream",
     "text": [
      "Enter string: Dr. Darshan Ingle @AI-ML Trainer\n",
      "drdarshaningleaimltrainer\n"
     ]
    }
   ],
   "source": [
    "str1 = input(\"Enter string: \").lower()\n",
    "for i in str1:\n",
    "    if i.isalpha() == False:\n",
    "        str1 = str1.replace(i, \"\")\n",
    "print(str1)"
   ]
  },
  {
   "cell_type": "code",
   "execution_count": null,
   "metadata": {},
   "outputs": [],
   "source": []
  }
 ],
 "metadata": {
  "kernelspec": {
   "display_name": "Python 3",
   "language": "python",
   "name": "python3"
  },
  "language_info": {
   "codemirror_mode": {
    "name": "ipython",
    "version": 3
   },
   "file_extension": ".py",
   "mimetype": "text/x-python",
   "name": "python",
   "nbconvert_exporter": "python",
   "pygments_lexer": "ipython3",
   "version": "3.7.7"
  }
 },
 "nbformat": 4,
 "nbformat_minor": 4
}
